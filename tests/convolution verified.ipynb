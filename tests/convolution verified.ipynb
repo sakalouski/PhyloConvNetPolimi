{
 "cells": [
  {
   "cell_type": "code",
   "execution_count": 1,
   "metadata": {},
   "outputs": [
    {
     "name": "stderr",
     "output_type": "stream",
     "text": [
      "Using TensorFlow backend.\n"
     ]
    }
   ],
   "source": [
    "import pandas as pd\n",
    "import os\n",
    "import sys\n",
    "from sklearn.metrics import classification_report\n",
    "from sklearn.model_selection import train_test_split\n",
    "from sklearn.linear_model import LogisticRegression\n",
    "from sklearn.preprocessing import StandardScaler\n",
    "from sklearn.metrics import f1_score\n",
    "from sklearn.dummy import DummyClassifier\n",
    "\n",
    "from keras import backend as K\n",
    "import tensorflow as tf\n",
    "config = tf.ConfigProto(device_count = {'CPU': 1}, intra_op_parallelism_threads=7, inter_op_parallelism_threads=1)\n",
    "session = tf.Session(config=config)\n",
    "K.set_session(session)\n",
    "import keras\n",
    "\n",
    "module_path = os.path.abspath(os.path.join('..'))\n",
    "if module_path not in sys.path:\n",
    "    sys.path.append(module_path)\n",
    "\n",
    "\n",
    "import PconvNetPolimi as pcnp\n",
    "import numpy as np\n",
    "import gene4cancer as gc\n",
    "import matplotlib.pyplot as plt\n",
    "import matplotlib\n",
    "import seaborn as sns\n",
    "\n",
    "%matplotlib inline\n",
    "\n",
    "matplotlib.rcParams['figure.figsize'] = (20.0, 20.0)\n",
    "matplotlib.rcParams['font.size'] = 22\n",
    "matplotlib.rcParams['xtick.labelsize'] = 22\n",
    "matplotlib.rcParams['ytick.labelsize'] = 22\n",
    "matplotlib.rcParams['axes.labelsize'] = 30\n",
    "matplotlib.rcParams['axes.titlesize'] = 30\n",
    "\n",
    "%load_ext autoreload\n",
    "%autoreload 2"
   ]
  },
  {
   "cell_type": "code",
   "execution_count": 25,
   "metadata": {},
   "outputs": [],
   "source": [
    "from keras.models import Model\n",
    "from keras.layers import (Lambda, Flatten, Dropout, Dense, Input, BatchNormalization)\n",
    "from keras.backend import floatx\n",
    "from keras import backend as K\n",
    "\n",
    "def my_init(shape, dtype=None):\n",
    "    return K.constant(shape=shape,value=(0,1,0),dtype=dtype)\n",
    "    #return K.random_normal(shape, dtype=dtype)\n",
    "\n",
    "def create_conv_model(X_train, Y_train, nb_filters = 1, nb_neighbors = 3, opt=None):\n",
    "    \n",
    "    nb_features = X_train.shape[1]\n",
    "    data = Input(shape=(nb_features, 1), name=\"data\", dtype=floatx())\n",
    "    conv_layer = keras.layers.Conv1D(nb_neighbors, nb_filters, strides = nb_neighbors, \n",
    "                                     kernel_initializer=my_init)(data)#keras.initializers.Ones())(data)\n",
    "    output = Flatten()(conv_layer)\n",
    "    #output = Dense(units=Y_train.shape[1], activation=\"softmax\", name='output')(flatt)\n",
    "\n",
    "    model = Model(inputs=data, outputs=output)\n",
    "    from keras import optimizers\n",
    "    #opt = optimizers.Nadam(lr=1e-4)\n",
    "    opt = optimizers.SGD(lr = 1e-4)\n",
    "    model.compile(optimizer=opt, loss='categorical_crossentropy')\n",
    "\n",
    "    return model"
   ]
  },
  {
   "cell_type": "code",
   "execution_count": 26,
   "metadata": {},
   "outputs": [],
   "source": [
    "X = np.array([[1,1,1,1,1,1,1,1]], float)\n",
    "Y = [1,0,1]\n",
    "model = create_conv_model(X,Y)"
   ]
  },
  {
   "cell_type": "code",
   "execution_count": 27,
   "metadata": {},
   "outputs": [],
   "source": [
    "X = X.reshape(1,8,1)"
   ]
  },
  {
   "cell_type": "code",
   "execution_count": 28,
   "metadata": {},
   "outputs": [
    {
     "data": {
      "text/plain": [
       "array([[ 0.,  1.,  0.,  0.,  1.,  0.,  0.,  1.,  0.]], dtype=float32)"
      ]
     },
     "execution_count": 28,
     "metadata": {},
     "output_type": "execute_result"
    }
   ],
   "source": [
    "model.predict(X)"
   ]
  },
  {
   "cell_type": "code",
   "execution_count": null,
   "metadata": {},
   "outputs": [],
   "source": []
  }
 ],
 "metadata": {
  "kernelspec": {
   "display_name": "Python 3",
   "language": "python",
   "name": "python3"
  },
  "language_info": {
   "codemirror_mode": {
    "name": "ipython",
    "version": 3
   },
   "file_extension": ".py",
   "mimetype": "text/x-python",
   "name": "python",
   "nbconvert_exporter": "python",
   "pygments_lexer": "ipython3",
   "version": "3.6.2"
  }
 },
 "nbformat": 4,
 "nbformat_minor": 2
}
